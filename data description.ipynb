{
    "cells": [
        {
            "cell_type": "markdown",
            "metadata": {},
            "source": "## Data description and methods"
        },
        {
            "cell_type": "markdown",
            "metadata": {},
            "source": "The dataset for this will be the Seatle accident data which holds data on accident severity and 36 attributes. Pandas and Numpy libaries will be used for data importation and processing. The Matplotlib libary will be used for data visualization. Exploratory data analysis using visualization and basic descriptive statistics will be used to determine the independent variables(e.g. weather condition, road condition, time of the day and day of the week) for building prediction models. Supervised machiine learning models (K nearest neighbor and Logistic regression models) will be used to predict accident severity (injury or property damage). Scikit leran libary will be used for model development and evaluation."
        },
        {
            "cell_type": "code",
            "execution_count": null,
            "metadata": {},
            "outputs": [],
            "source": ""
        }
    ],
    "metadata": {
        "kernelspec": {
            "display_name": "Python 3",
            "language": "python",
            "name": "python3"
        },
        "language_info": {
            "codemirror_mode": {
                "name": "ipython",
                "version": 3
            },
            "file_extension": ".py",
            "mimetype": "text/x-python",
            "name": "python",
            "nbconvert_exporter": "python",
            "pygments_lexer": "ipython3",
            "version": "3.7.6"
        }
    },
    "nbformat": 4,
    "nbformat_minor": 4
}