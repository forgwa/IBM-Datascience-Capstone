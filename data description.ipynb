{
    "cells": [
        {
            "metadata": {},
            "cell_type": "markdown",
            "source": "## Data description and methods"
        },
        {
            "metadata": {},
            "cell_type": "markdown",
            "source": "The dataset for this will be the Seatle accident data which holds data on accident severity and 36 attributes. Pandas and Numpy libaries will be used for data importation and processing. The Matplotlib libary will be used for data visualization. Exploratory data analysis using visualization and basic descriptive statistics will be used to determine the independent variables(e.g. weather condition, road condition, time of the day and day of the week) for building prediction models. Supervised machiine learning models (K nearest neighbor and Logistic regression models) will be used to predict accident severity (injury or property damage). Scikit leran libary will be used for model development and evaluation."
        },
        {
            "metadata": {},
            "cell_type": "code",
            "source": "",
            "execution_count": null,
            "outputs": []
        }
    ],
    "metadata": {
        "kernelspec": {
            "name": "python3",
            "display_name": "Python 3.6",
            "language": "python"
        },
        "language_info": {
            "name": "python",
            "version": "3.6.9",
            "mimetype": "text/x-python",
            "codemirror_mode": {
                "name": "ipython",
                "version": 3
            },
            "pygments_lexer": "ipython3",
            "nbconvert_exporter": "python",
            "file_extension": ".py"
        }
    },
    "nbformat": 4,
    "nbformat_minor": 4
}