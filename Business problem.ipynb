{
    "cells": [
        {
            "cell_type": "markdown",
            "metadata": {},
            "source": "## Introduction"
        },
        {
            "cell_type": "markdown",
            "metadata": {},
            "source": " *Road traffic accidents often invlove damages rannging from minor injuries to serious injuries including mortality. The outcomes of road traffic accidents are often influenced by the reaction time of traffic surveilance systems to contact emergency health care workers in case of human injuries or construction teams in case of property damage.* This project sought to build a prediction model for severity of road traffic accidents ( human injuries or property damage) such that traffic surveillance systems may prioritize the teams (health care teams or construction teams) to deploy to an accident site in future accidents."
        },
        {
            "cell_type": "code",
            "execution_count": null,
            "metadata": {},
            "outputs": [],
            "source": ""
        }
    ],
    "metadata": {
        "kernelspec": {
            "display_name": "Python 3",
            "language": "python",
            "name": "python3"
        },
        "language_info": {
            "codemirror_mode": {
                "name": "ipython",
                "version": 3
            },
            "file_extension": ".py",
            "mimetype": "text/x-python",
            "name": "python",
            "nbconvert_exporter": "python",
            "pygments_lexer": "ipython3",
            "version": "3.7.6"
        }
    },
    "nbformat": 4,
    "nbformat_minor": 4
}