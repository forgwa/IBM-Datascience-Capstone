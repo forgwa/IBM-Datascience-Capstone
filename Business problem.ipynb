{
    "cells": [
        {
            "metadata": {},
            "cell_type": "markdown",
            "source": "## Introduction"
        },
        {
            "metadata": {},
            "cell_type": "markdown",
            "source": " *Road traffic accidents often invlove damages rannging from minor injuries to serious injuries including mortality. The outcomes of road traffic accidents are often influenced by the reaction time of traffic surveilance systems to contact emergency health care workers in case of human injuries or construction teams in case of property damage.* This project sought to build a prediction model for severity of road traffic accidents ( human injuries or property damage) such that traffic surveillance systems may prioritize the teams (health care teams or construction teams) to deploy to an accident site in future accidents."
        },
        {
            "metadata": {},
            "cell_type": "code",
            "source": "",
            "execution_count": null,
            "outputs": []
        }
    ],
    "metadata": {
        "kernelspec": {
            "name": "python3",
            "display_name": "Python 3.6",
            "language": "python"
        },
        "language_info": {
            "name": "python",
            "version": "3.6.9",
            "mimetype": "text/x-python",
            "codemirror_mode": {
                "name": "ipython",
                "version": 3
            },
            "pygments_lexer": "ipython3",
            "nbconvert_exporter": "python",
            "file_extension": ".py"
        }
    },
    "nbformat": 4,
    "nbformat_minor": 4
}